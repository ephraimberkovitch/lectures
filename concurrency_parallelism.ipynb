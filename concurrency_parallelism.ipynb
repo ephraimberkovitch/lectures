{
 "cells": [
  {
   "cell_type": "code",
   "execution_count": 1,
   "id": "2fd02bc1",
   "metadata": {},
   "outputs": [
    {
     "name": "stdout",
     "output_type": "stream",
     "text": [
      "Time taken 1.15525221824646 seconds\n"
     ]
    }
   ],
   "source": [
    "import time\n",
    "from multiprocessing import Process\n",
    "\n",
    "\n",
    "def test(x):\n",
    "    count  = 0\n",
    "    for i in range(0, x**x):\n",
    "      count += 1\n",
    "\n",
    "\n",
    "if __name__ == \"__main__\":\n",
    "    starttime = time.time()\n",
    "    processlist = []\n",
    "    for i in range(0, 4):\n",
    "        process = Process(target=test, args=(9,))\n",
    "        processlist.append(process)\n",
    "        process.start()\n",
    "\n",
    "    for process in processlist:\n",
    "        process.join()\n",
    "    endtime = time.time()\n",
    "    print(f\"Time taken {endtime-starttime} seconds\")"
   ]
  },
  {
   "cell_type": "code",
   "execution_count": 2,
   "id": "ffca8566",
   "metadata": {},
   "outputs": [
    {
     "name": "stdout",
     "output_type": "stream",
     "text": [
      "Time taken 121.42066097259521 seconds\n"
     ]
    }
   ],
   "source": [
    "import time\n",
    "\n",
    "\n",
    "def test(x):\n",
    "    count = 0\n",
    "    for i in range(0, x ** x):\n",
    "        count += 1\n",
    "\n",
    "\n",
    "starttime = time.time()\n",
    "for i in range(0, 4):\n",
    "    test(9)\n",
    "endtime = time.time()\n",
    "print(f\"Time taken {endtime-starttime} seconds\")"
   ]
  },
  {
   "cell_type": "code",
   "execution_count": 3,
   "id": "5d420db6",
   "metadata": {},
   "outputs": [
    {
     "name": "stdout",
     "output_type": "stream",
     "text": [
      "Time taken 152.54156851768494 seconds\n"
     ]
    }
   ],
   "source": [
    "import time\n",
    "import threading\n",
    "\n",
    "\n",
    "def test(x):\n",
    "    count = 0\n",
    "    for i in range(0, x ** x):\n",
    "        count += 1\n",
    "\n",
    "\n",
    "if __name__ == \"__main__\":\n",
    "    starttime = time.time()\n",
    "    threads = []\n",
    "    for i in range(0, 4):\n",
    "        thread = threading.Thread(target=test, args=(9,))\n",
    "        threads.append(thread)\n",
    "        thread.start()\n",
    "    for thread in threads:\n",
    "        thread.join()\n",
    "    endtime = time.time()\n",
    "    print(f\"Time taken {endtime-starttime} seconds\")"
   ]
  }
 ],
 "metadata": {
  "kernelspec": {
   "display_name": "Python 3 (ipykernel)",
   "language": "python",
   "name": "python3"
  },
  "language_info": {
   "codemirror_mode": {
    "name": "ipython",
    "version": 3
   },
   "file_extension": ".py",
   "mimetype": "text/x-python",
   "name": "python",
   "nbconvert_exporter": "python",
   "pygments_lexer": "ipython3",
   "version": "3.9.12"
  }
 },
 "nbformat": 4,
 "nbformat_minor": 5
}
