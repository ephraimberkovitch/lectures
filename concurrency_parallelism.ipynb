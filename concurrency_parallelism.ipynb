{
 "cells": [
  {
   "cell_type": "markdown",
   "id": "bd1549a6",
   "metadata": {},
   "source": [
    "# Concurrency and Parallelism in Python\n",
    "\n",
    "\n",
    "## CPU\n",
    "* parallel execution - tasks execute on multiple CPUs at the same time\n",
    "* concurrent execution - only one task runs at one time on a single CPU, however, making progress simultaneously\n",
    "\n",
    "## Memory\n",
    "* each process created by a Parent process has its separate memory\n",
    "* threads spawned by a process \n",
    "  * share memory space and other OS resources with other threads, consuming less memory than processes do.\n",
    "    * code section\n",
    "    * data section\n",
    "  * each thread has its own \n",
    "    * thread ID, \n",
    "    * a program counter, \n",
    "    * a register set, \n",
    "    * and a stack. \n",
    "\n",
    "## Inter-Process Communication and Locks\n",
    "* Since **processes** have different memory segments, a _communication channel_ is required to pass data between them\n",
    "* **Threads** - because of shared resources, we need to use _locks_ to avoid the _race condition_. A race condition occurs when shared data is accessed and manipulated concurrently. However, using locks make sure that only one thread manipulates the data at one time. For a thread to manipulate the shared data, it has to acquire the lock. During that time, if some other thread tries to acquire the lock, it will have to wait until the lock gets released.\n",
    "\n",
    "## GIL\n",
    "Programs in Python are single-threaded and use a single CPU because of the Global Interpreter Lock or GIL. It is a lock that only allows one thread to hold control of the Python interpreter, and thus only one thread gets executed at a time. Therefore, Python cannot use multiprocessing automatically. However, the multiprocessing module solves this problem by bypassing the GIL.\n",
    "\n",
    "In multiprocessing, each process has a separate GIL and instance of a Python interpreter. However, in multithreading, all the threads have a single GIL and thus one Python interpreter. Therefore, only one thread can be executed at one time."
   ]
  },
  {
   "cell_type": "markdown",
   "id": "8b64d2c8",
   "metadata": {},
   "source": [
    "## Performance\n",
    "* I/O bound task - utilizes most of its time performing I/O operations\n",
    "* CPU bound task - requires the CPU mostly to complete it"
   ]
  },
  {
   "cell_type": "code",
   "execution_count": 1,
   "id": "0ee5b852",
   "metadata": {},
   "outputs": [],
   "source": [
    "import functions as f\n",
    "import time"
   ]
  },
  {
   "cell_type": "code",
   "execution_count": 2,
   "id": "da35d620",
   "metadata": {},
   "outputs": [
    {
     "data": {
      "text/plain": [
       "27"
      ]
     },
     "execution_count": 2,
     "metadata": {},
     "output_type": "execute_result"
    }
   ],
   "source": [
    "# CPU-bound task\n",
    "def cpu_bound(x):\n",
    "    count = 0\n",
    "    for i in range(0, x**x):\n",
    "      count += 1\n",
    "    return count\n",
    "cpu_bound(3)"
   ]
  },
  {
   "cell_type": "code",
   "execution_count": 19,
   "id": "f2cc3b61",
   "metadata": {},
   "outputs": [
    {
     "name": "stdout",
     "output_type": "stream",
     "text": [
      "Time taken 20.169926166534424 seconds\n"
     ]
    }
   ],
   "source": [
    "# Multi-processing\n",
    "from multiprocessing import Process\n",
    "\n",
    "starttime = time.time()\n",
    "processlist = []\n",
    "for i in range(0, 4):\n",
    "    process = Process(target=f.cpu_bound, args=(9,))\n",
    "    processlist.append(process)\n",
    "    process.start()\n",
    "\n",
    "for process in processlist:\n",
    "    process.join()\n",
    "endtime = time.time()\n",
    "print(f\"Time taken {endtime-starttime} seconds\")"
   ]
  },
  {
   "cell_type": "code",
   "execution_count": 4,
   "id": "76a4953b",
   "metadata": {},
   "outputs": [
    {
     "name": "stdout",
     "output_type": "stream",
     "text": [
      "[387420489, 387420489, 387420489, 387420489]\n",
      "Time taken 21.96160912513733 seconds\n"
     ]
    }
   ],
   "source": [
    "# Multi-processing - another way\n",
    "from multiprocessing import Pool\n",
    "\n",
    "starttime = time.time()\n",
    "with Pool(4) as p:\n",
    "    print(p.map(f.cpu_bound, [9, 9, 9, 9]))\n",
    "endtime = time.time()\n",
    "print(f\"Time taken {endtime-starttime} seconds\")"
   ]
  },
  {
   "cell_type": "code",
   "execution_count": 6,
   "id": "ffca8566",
   "metadata": {},
   "outputs": [
    {
     "name": "stdout",
     "output_type": "stream",
     "text": [
      "Time taken 76.61669826507568 seconds\n"
     ]
    }
   ],
   "source": [
    "# Single Processing and Threading\n",
    "starttime = time.time()\n",
    "for i in range(0, 4):\n",
    "    f.cpu_bound(9)\n",
    "endtime = time.time()\n",
    "print(f\"Time taken {endtime-starttime} seconds\")"
   ]
  },
  {
   "cell_type": "code",
   "execution_count": 8,
   "id": "5d420db6",
   "metadata": {},
   "outputs": [
    {
     "name": "stdout",
     "output_type": "stream",
     "text": [
      "Time taken 74.9468080997467 seconds\n"
     ]
    }
   ],
   "source": [
    "# Multi-threading\n",
    "import threading\n",
    "\n",
    "starttime = time.time()\n",
    "threads = []\n",
    "for i in range(0, 4):\n",
    "    thread = threading.Thread(target=f.cpu_bound, args=(9,))\n",
    "    threads.append(thread)\n",
    "    thread.start()\n",
    "for thread in threads:\n",
    "    thread.join()\n",
    "endtime = time.time()\n",
    "print(f\"Time taken {endtime-starttime} seconds\")"
   ]
  },
  {
   "cell_type": "markdown",
   "id": "26dcf59d",
   "metadata": {},
   "source": [
    "## CPU Bound Tasks - Conclusions\n",
    "* multiprocessing < serial execution <= multithreading\n",
    "  * in multiprocessing, processes run in parallel and utilize multiple CPUs. Since our code requires CPU most of the time, multiprocessing gives better results. \n",
    "  * However, in multithreading, only one thread runs at one time. Because there is no blocking due to any I/O operation, the CPU does not remain idle. Hence, it almost gives the same performance as serial execution does.\n",
    "  * there is also an overhead of switching between the threads, which is not in serial execution. Thus, serial execution performs better than multithreading"
   ]
  },
  {
   "cell_type": "code",
   "execution_count": 2,
   "id": "0b4b6a5d",
   "metadata": {},
   "outputs": [],
   "source": [
    "# I/O-bound task\n",
    "def io_bound(i):\n",
    "    file_name = \"file\" + str(i) + \".txt\"\n",
    "    f = open(file_name, \"w\")\n",
    "    print(\"writing to a file\")\n",
    "    for j in range(0, 8 ** 8):\n",
    "        f.write(\"This is a sample text\")"
   ]
  },
  {
   "cell_type": "code",
   "execution_count": 3,
   "id": "43ee1777",
   "metadata": {},
   "outputs": [
    {
     "name": "stdout",
     "output_type": "stream",
     "text": [
      "writing to a file\n",
      "writing to a file\n",
      "writing to a file\n",
      "writing to a file\n",
      "Time taken 3.2585530281066895 seconds\n"
     ]
    }
   ],
   "source": [
    "# Multi-processing\n",
    "from multiprocessing import Process\n",
    "\n",
    "starttime = time.time()\n",
    "processlist = []\n",
    "for i in range(0, 4):\n",
    "    process = Process(target=f.io_bound, args=(i,))\n",
    "    processlist.append(process)\n",
    "    process.start()\n",
    "\n",
    "for process in processlist:\n",
    "    process.join()\n",
    "endtime = time.time()\n",
    "print(f\"Time taken {endtime-starttime} seconds\")"
   ]
  },
  {
   "cell_type": "code",
   "execution_count": 7,
   "id": "7c6efe32",
   "metadata": {},
   "outputs": [
    {
     "name": "stdout",
     "output_type": "stream",
     "text": [
      "writing to a file\n",
      "writing to a file\n",
      "writing to a file\n",
      "writing to a file\n",
      "Time taken 8.330154180526733 seconds\n"
     ]
    }
   ],
   "source": [
    "# Uniprocessing and Single threading\n",
    "starttime = time.time()\n",
    "for i in range(0, 4):\n",
    "    f.io_bound(i)\n",
    "endtime = time.time()\n",
    "print(f\"Time taken {endtime-starttime} seconds\")"
   ]
  },
  {
   "cell_type": "code",
   "execution_count": 8,
   "id": "9a09989d",
   "metadata": {},
   "outputs": [
    {
     "name": "stdout",
     "output_type": "stream",
     "text": [
      "writing to a file\n",
      "writing to a file\n",
      "writing to a file\n",
      "writing to a file\n",
      "Time taken 7.467015027999878 seconds\n"
     ]
    }
   ],
   "source": [
    "# Multi-threading\n",
    "starttime = time.time()\n",
    "threads = []\n",
    "for i in range(0, 4):\n",
    "    thread = threading.Thread(target=f.io_bound, args=(i,))\n",
    "    threads.append(thread)\n",
    "    thread.start()\n",
    "for thread in threads:\n",
    "    thread.join()\n",
    "endtime = time.time()\n",
    "print(f\"Time taken {endtime-starttime} seconds\")"
   ]
  },
  {
   "cell_type": "markdown",
   "id": "a86d2457",
   "metadata": {},
   "source": [
    "## I/O-Bound Tasks Conclusions\n",
    "* When an I/O operation comes up in serial execution, the CPU remains idle and that thread blocks. Hence, no activity is done on the part of that process until that operation gets completed. \n",
    "* However, in multithreading, GIL releases the lock, and some other thread acquires it and starts running. That is why multithreading performs better than serial execution. Moreover, the overhead of creating a process is more than creating a thread. Therefore, multithreading performs better than multiprocessing, in this case."
   ]
  },
  {
   "cell_type": "markdown",
   "id": "5098adde",
   "metadata": {},
   "source": [
    "**So, use multithreading when tasks include I/O operations or network requests mostly, and use multiprocessing when you have CPU intensive tasks**"
   ]
  },
  {
   "cell_type": "markdown",
   "id": "e001f831",
   "metadata": {},
   "source": [
    "<table>\n",
    "    <tr>\n",
    "        <th>Multi-threading</th>\n",
    "        <th>Multi-processing</th>\n",
    "    </tr>\n",
    "    <tr>\n",
    "        <td>Only uses a single CPU</td>\n",
    "        <td>Uses multiple CPUs or cores</td>\n",
    "    </tr>\n",
    "    <tr>\n",
    "        <td>Thread creation is faster than process creation, i.e., less overhead</td>\n",
    "        <td>Process creation is slower</td>\n",
    "    </tr>\n",
    "    <tr>\n",
    "        <td>Concurrent Execution</td>\n",
    "        <td>Parallel Execution</td>\n",
    "    </tr>\n",
    "    <tr>\n",
    "        <td>Threads have the same memory space</td>\n",
    "        <td>Processes have a separate memory space</td>\n",
    "    </tr>\n",
    "    <tr>\n",
    "        <td>Requires locks to handle shared data</td>\n",
    "        <td>It does not require locks as threads do because the memory space is different unless you explicitly use some shared resource</td>\n",
    "    </tr>\n",
    "    <tr>\n",
    "        <td>One GIL</td>\n",
    "        <td>Each process has a separate GIL</td>\n",
    "    </tr>\n",
    "    <tr>\n",
    "        <td>No communication channel is required</td>\n",
    "        <td>Processes require a communication channel for IPC</td>\n",
    "    </tr>\n",
    "    <tr>\n",
    "        <td>Context switching between threads is faster than processes</td>\n",
    "        <td>Context switching is slower</td>\n",
    "    </tr>\n",
    "    <tr>\n",
    "        <td>Suitable for I/O bound and network bound tasks</td>\n",
    "        <td>Suitable for CPU bound tasks</td>\n",
    "    </tr>\n",
    "<table>"
   ]
  },
  {
   "cell_type": "markdown",
   "id": "fd082058",
   "metadata": {},
   "source": [
    "## Coroutines and asyncio\n",
    "\n",
    "**single-threaded, single-process design: it uses cooperative multitasking**\n",
    "\n",
    "* Asynchronous routines are able to “pause” while waiting on their ultimate result and let other routines run in the meantime.\n",
    "* Asynchronous code facilitates concurrent execution - gives the look and feel of concurrency"
   ]
  },
  {
   "cell_type": "markdown",
   "id": "d66b9727",
   "metadata": {},
   "source": [
    "![title](img/asyncio.webp)"
   ]
  },
  {
   "cell_type": "markdown",
   "id": "17d21048",
   "metadata": {},
   "source": [
    "Chess master Judit Polgár hosts a chess exhibition in which she plays multiple amateur players. She has two ways of conducting the exhibition: synchronously and asynchronously.\n",
    "\n",
    "Assumptions:\n",
    "\n",
    "24 opponents\n",
    "Judit makes each chess move in 5 seconds\n",
    "Opponents each take 55 seconds to make a move\n",
    "Games average 30 pair-moves (60 moves total)\n",
    "Synchronous version: Judit plays one game at a time, never two at the same time, until the game is complete. Each game takes (55 + 5) * 30 == 1800 seconds, or 30 minutes. The entire exhibition takes 24 * 30 == 720 minutes, or 12 hours.\n",
    "\n",
    "Asynchronous version: Judit moves from table to table, making one move at each table. She leaves the table and lets the opponent make their next move during the wait time. One move on all 24 games takes Judit 24 * 5 == 120 seconds, or 2 minutes. The entire exhibition is now cut down to 120 * 30 == 3600 seconds, or just 1 hour.\n",
    "\n",
    "**Async IO** takes long waiting periods in which functions would otherwise be blocking and allows other functions to run during that downtime. (A function that blocks effectively forbids others from running from the time that it starts until the time that it returns.)\n",
    "\n",
    "**coroutine** is a specialized version of a Python generator function (function that can suspend its execution before reaching return, and it can indirectly pass control to another coroutine for some time)"
   ]
  },
  {
   "cell_type": "code",
   "execution_count": 25,
   "id": "2a0911bf",
   "metadata": {},
   "outputs": [
    {
     "name": "stdout",
     "output_type": "stream",
     "text": [
      "One\n",
      "One\n",
      "One\n",
      "Two\n",
      "Two\n",
      "Two\n",
      "Executed in 1.00 seconds.\n"
     ]
    }
   ],
   "source": [
    "import asyncio\n",
    "\n",
    "async def async_count():  # native coroutine\n",
    "    print(\"One\")\n",
    "    await asyncio.sleep(1)\n",
    "    print(\"Two\")\n",
    "\n",
    "async def async_main():\n",
    "    await asyncio.gather(count(), count(), count())\n",
    "\n",
    "s = time.perf_counter()\n",
    "await async_main()\n",
    "elapsed = time.perf_counter() - s\n",
    "print(f\"Executed in {elapsed:0.2f} seconds.\")"
   ]
  },
  {
   "cell_type": "code",
   "execution_count": 24,
   "id": "d5ab96b1",
   "metadata": {},
   "outputs": [
    {
     "name": "stdout",
     "output_type": "stream",
     "text": [
      "One\n",
      "Two\n",
      "One\n",
      "Two\n",
      "One\n",
      "Two\n",
      "Executed in 3.01 seconds.\n"
     ]
    }
   ],
   "source": [
    "def sync_count():\n",
    "    print(\"One\")\n",
    "    time.sleep(1)\n",
    "    print(\"Two\")\n",
    "\n",
    "def sync_main():\n",
    "    for _ in range(3):\n",
    "        sync_count()\n",
    "\n",
    "s = time.perf_counter()\n",
    "sync_main()\n",
    "elapsed = time.perf_counter() - s\n",
    "print(f\"Executed in {elapsed:0.2f} seconds.\")"
   ]
  },
  {
   "cell_type": "code",
   "execution_count": 30,
   "id": "8feb3b1e",
   "metadata": {},
   "outputs": [
    {
     "name": "stdout",
     "output_type": "stream",
     "text": [
      "One\n",
      "One\n",
      "One\n",
      "TwoTwo\n",
      "\n",
      "Two\n",
      "Executed in 1.01 seconds.\n"
     ]
    }
   ],
   "source": [
    "def threading_count():\n",
    "    print(\"One\")\n",
    "    time.sleep(1)\n",
    "    print(\"Two\")\n",
    "\n",
    "def threading_main():\n",
    "    thread1 = threading.Thread(target=threading_count)\n",
    "    thread2 = threading.Thread(target=threading_count)\n",
    "    thread3 = threading.Thread(target=threading_count)\n",
    "    \n",
    "    thread1.start()\n",
    "    thread2.start()\n",
    "    thread3.start()\n",
    "    \n",
    "    thread1.join()\n",
    "    thread2.join()\n",
    "    thread3.join()\n",
    "\n",
    "s = time.perf_counter()\n",
    "threading_main()\n",
    "elapsed = time.perf_counter() - s\n",
    "print(f\"Executed in {elapsed:0.2f} seconds.\")"
   ]
  },
  {
   "cell_type": "markdown",
   "id": "518433d1",
   "metadata": {},
   "source": [
    "## Multi-threading vs asyncio"
   ]
  },
  {
   "cell_type": "code",
   "execution_count": 34,
   "id": "e6b27ab3",
   "metadata": {},
   "outputs": [
    {
     "name": "stdout",
     "output_type": "stream",
     "text": [
      "call 1st API\n",
      "1st API finish\n",
      "call 2st API\n",
      "2nd API finish\n",
      "7.005630016326904\n"
     ]
    }
   ],
   "source": [
    "# Sequential code\n",
    "def sync_api1():\n",
    "    print(\"call 1st API\")\n",
    "    time.sleep(4)\n",
    "    print(\"1st API finish\")\n",
    "  \n",
    "def sync_api2():\n",
    "    print(\"call 2st API\")\n",
    "    time.sleep(3)\n",
    "    print(\"2nd API finish\")\n",
    "\n",
    "start = time.time()\n",
    "sync_api1()\n",
    "sync_api2()\n",
    "print(time.time()-start)"
   ]
  },
  {
   "cell_type": "code",
   "execution_count": 35,
   "id": "b4ab7165",
   "metadata": {},
   "outputs": [
    {
     "name": "stdout",
     "output_type": "stream",
     "text": [
      "call 1st API\n",
      "call 2st API\n",
      "2nd API finish\n",
      "1st API finish\n",
      "4.006623268127441\n"
     ]
    }
   ],
   "source": [
    "# Multi-threaded code\n",
    "\n",
    "def threaded_api1():\n",
    "    print(\"call 1st API\")\n",
    "    time.sleep(4)\n",
    "    print(\"1st API finish\")\n",
    "  \n",
    "def threaded_api2():\n",
    "    print(\"call 2st API\")\n",
    "    time.sleep(3)\n",
    "    print(\"2nd API finish\")\n",
    "\n",
    "start = time.time()\n",
    "\n",
    "# create threads\n",
    "t1 = threading.Thread(target=threaded_api1, name='t1')\n",
    "t2 = threading.Thread(target=threaded_api2, name='t2')  \n",
    "\n",
    "# start threads\n",
    "t1.start()\n",
    "t2.start()\n",
    "\n",
    "# wait untill all threads finished\n",
    "t1.join()\n",
    "t2.join()\n",
    "\n",
    "print(time.time()-start)"
   ]
  },
  {
   "cell_type": "code",
   "execution_count": 42,
   "id": "6f7350b3",
   "metadata": {},
   "outputs": [
    {
     "name": "stdout",
     "output_type": "stream",
     "text": [
      "call 1st API\n",
      "call 2st API\n",
      "2nd API finish\n",
      "1st API finish\n",
      "4.003184795379639\n"
     ]
    }
   ],
   "source": [
    "# Async IO = non-blocking IO, using event loop\n",
    "async def async_api1():\n",
    "    print(\"call 1st API\")\n",
    "    await asyncio.sleep(4)\n",
    "    print(\"1st API finish\")\n",
    "  \n",
    "async def async_api2():\n",
    "    print(\"call 2st API\")\n",
    "    await asyncio.sleep(3)\n",
    "    print(\"2nd API finish\")\n",
    "    \n",
    "start = time.time()\n",
    "# await async_api1()\n",
    "# await async_api2()\n",
    "await asyncio.gather(async_api1(), async_api2())\n",
    "print(time.time()-start)"
   ]
  },
  {
   "cell_type": "markdown",
   "id": "b2f9a517",
   "metadata": {},
   "source": [
    "## Use case: requests"
   ]
  },
  {
   "cell_type": "code",
   "execution_count": 6,
   "id": "f3aa0e7a",
   "metadata": {},
   "outputs": [
    {
     "name": "stdout",
     "output_type": "stream",
     "text": [
      "Response status (https://www.googleapis.com/books/v1/volumes?q=isbn:9780002005883): 200\n",
      "Response: [\n",
      "  \"Gilead\",\n",
      "  null,\n",
      "  \"A NOVEL THAT READERS and critics have been eagerly anticipating for over a decade, Gilead is an astonishingly imagined story of remarkable lives. John Ames is a preacher, the son of a preacher and the grandson (both maternal and paternal) of preachers. It\\u2019s 1956 in Gilead, Iowa, towards the end of the Reverend Ames\\u2019s life, and he is absorbed in recording his family\\u2019s story, a legacy for the young son he will never see grow up. Haunted by his grandfather\\u2019s presence, John tells of the rift between his grandfather and his father: the elder, an angry visionary who fought for the abolitionist cause, and his son, an ardent pacifist. He is troubled, too, by his prodigal namesake, Jack (John Ames) Boughton, his best friend\\u2019s lost son who returns to Gilead searching for forgiveness and redemption. Told in John Ames\\u2019s joyous, rambling voice that finds beauty, humour and truth in the smallest of life\\u2019s details, Gilead is a song of celebration and acceptance of the best and the worst the world has to offer. At its heart is a tale of the sacred bonds between fathers and sons, pitch-perfect in style and story, set to dazzle critics and readers alike.\",\n",
      "  \"2004-11-08\"\n",
      "]\n",
      "Response status (https://www.googleapis.com/books/v1/volumes?q=isbn:9780002238304): 200\n",
      "Response: [\n",
      "  \"Chaos and Order\",\n",
      "  null,\n",
      "  \"As the planetoid Thanatos Minor explodes into atoms, a specially fitted cruiser escapes the mass destruction and hurtles into space only a step ahead of hostile pursuit. On board Trumpet is a handful of bedraggled fugitives from an outlaw world, old enemies suddenly and violently thrown together in a desperate bid for survival. Among this unlikely crew of allies are Morn Hyland, once a UMCP cop, now a prisoner to the electrodes implanted in her brain; her son, Davies, \\\"force-grown\\\" to adulthood by the alien Amnion and struggling to understand his true identity; the amoral space buccaneer Nick Succorso, whose most daring act of piracy could be his last; and Angus Thermopyle, unstoppable cyborg struggling to wrest control of his own mind from his UMCP programmers. Locked in a lethal battle against one another for control of Trumpet, they also find themselves the target of Punisher, a police ship whose human captain, Min Donner, is torn between her duty and her sympathy for the outlaw crew she's been ordered to capture. Yet as Min races to reach Trumpet in time, Warden Dios, the director of the UMC Police, receives a darker directive from the mysterious, semi-immortal Dragon, ruler of the UMC: Kill everyone aboard Trumpet except for the one person whose blood carries the mutagenic key to ultimate Amnion triumph - the ability to appear perfectly human. In a final titanic showdown in space, amid uncharted comets, planets, and asteroid swarms, these forces will converge in a contest of skill and survival on which our future - and the future of the galaxy - depends. In Chaos and Order Stephen R. Donaldson has created his most powerful and labyrinthine tale yet, peeling away layer upon layer ofintrigue and double cross to lay bare the chilling plan for the conquest of humanity.\",\n",
      "  \"1995-06-01\"\n",
      "]\n",
      "Response status (https://www.googleapis.com/books/v1/volumes?q=isbn:9780002261982): 200\n",
      "Response: [\n",
      "  \"Spider's Web\",\n",
      "  \"A Novel\",\n",
      "  \"A new 'Christie for Christmas' -- a full-length novel adapted from her acclaimed play by Charles Osborne Following BLACK COFFEE and THE UNEXPECTED GUEST comes the final Agatha Christie play novelisation, bringing her superb storytelling to a new legion of fans. Clarissa, the wife of a Foreign Office diplomat, is given to daydreaming. 'Supposing I were to come down one morning and find a dead body in the library, what should I do?' she muses. Clarissa has her chance to find out when she discovers a body in the drawing-room of her house in Kent. Desperate to dispose of the body before her husband comes home with an important foreign politician, Clarissa persuades her three house guests to become accessories and accomplices. It seems that the murdered man was not unknown to certain members of the house party (but which ones?), and the search begins for the murderer and the motive, while at the same time trying to persuade a police inspector that there has been no murder at all... SPIDER'S WEB was written in 1954 specifically for Margaret Lockwood and opened first at the Theatre Royal Nottingham before moving to the Savoy Theatre in London on 14 December 1954. With THE MOUSETRAP and WI\",\n",
      "  \"2000\"\n",
      "]\n",
      "Response status (https://www.googleapis.com/books/v1/volumes?q=isbn:9780006163831): 200\n",
      "Response: [\n",
      "  \"The One Tree\",\n",
      "  null,\n",
      "  \"Volume Two of Stephen Donaldson's acclaimed second trilogy featuing the compelling anti-hero Thomas Covenant.\",\n",
      "  \"1982\"\n",
      "]\n",
      "Response status (https://www.googleapis.com/books/v1/volumes?q=isbn:9780006178736): 200\n",
      "Response: [\n",
      "  \"Rage of Angels\",\n",
      "  null,\n",
      "  \"Brilliant and beautiful, Jennifer Parker rises from the ashes of her disasterous first day in court to become one of America's most successful defence attorneys. Interwoven with two very different men, her life becomes a battleground for good and evil.\",\n",
      "  \"1990\"\n",
      "]\n",
      "Response status (https://www.googleapis.com/books/v1/volumes?q=isbn:9780006280897): 200\n",
      "Response: [\n",
      "  \"The Four Loves\",\n",
      "  null,\n",
      "  \"Lewis' work on the nature of love divides love into four categories; Affection, Friendship, Eros and Charity. The first three come naturally to humanity. Charity, however, the Gift-love of God, is divine, and without this supernatural love, the natural loves become distorted and even dangerous.\",\n",
      "  \"2002\"\n",
      "]\n",
      "Response status (https://www.googleapis.com/books/v1/volumes?q=isbn:9780006280934): 200\n",
      "Response: [\n",
      "  \"The Problem of Pain\",\n",
      "  null,\n",
      "  \"\\\"In The Problem of Pain, C.S. Lewis, one of the most renowned Christian authors and thinkers, examines a universally applicable question within the human condition: If God is good and all-powerful, why does he allow his creatures to suffer pain? With his signature wealth of compassion and insight, C.S. Lewis offers answers to these crucial questions and shares his hope and wisdom to help heal a world hungering for a true understanding of human nature.\\\"--Amazon.\",\n",
      "  \"2002\"\n",
      "]\n",
      "Response status (https://www.googleapis.com/books/v1/volumes?q=isbn:9780006353287): 200\n",
      "Response: [\n",
      "  \"An Autobiography\",\n",
      "  null,\n",
      "  \"Donation.\",\n",
      "  \"1977\"\n",
      "]\n",
      "Response status (https://www.googleapis.com/books/v1/volumes?q=isbn:9780006380832): 200\n",
      "Response: [\n",
      "  \"Empires of the Monsoon\",\n",
      "  \"A History of the Indian Ocean and Its Invaders\",\n",
      "  \"Until Vasco da Gama discovered the sea-route to the East in 1497-9 almost nothing was known in the West of the exotic cultures and wealth of the Indian Ocean and its peoples. It is this civilization and its destruction at the hands of the West that Richard Hall recreates in this book. Hall's history of the exploration and exploitation by Chinese and Arab travellers, and by the Portuguese, Dutch and British alike is one of brutality, betrayal and colonial ambition.\",\n",
      "  \"1998\"\n",
      "]\n",
      "Response status (https://www.googleapis.com/books/v1/volumes?q=isbn:9780006470229): 200\n",
      "Response: [\n",
      "  \"The Gap Into Madness\",\n",
      "  \"Chaos and Order\",\n",
      "  \"A new-cover reissue of the fourth book in the bestselling five-volume sf series created by the world-famous author of the Thomas Covenant chronicles -- and acclaimed as the 'best work of his career'. Events were not moving as the Amnion had intended. Once again humans had been false in their dealings with the aliens. As the planetoid Thanatos Minor exploded into atoms, the Trumpet hurtled into space only one step ahead of hostile pursuers. On board were Morn Hyland and her force-grown son Davies, cyborg Angus Thermopyle and Captain Nick Succorso -- old enemies thrown together in a desperate bid for survival. For both the Amnion and the UMCP, the immediate capture of the fleeing ship and the secrets it contained was imperative. But for Trumpet's exhausted crew the only hope lay in an illegal lab in the distant binary solar system of Valdor Industrial. It would be a journey of unpredictable danger -- from which not all would return...\",\n",
      "  \"1994\"\n",
      "]\n",
      "4.940655708312988\n"
     ]
    }
   ],
   "source": [
    "import time\n",
    "import json\n",
    "import os\n",
    "import requests  \n",
    "from requests.exceptions import HTTPError\n",
    "\n",
    "\n",
    "GOOGLE_BOOKS_URL = \"https://www.googleapis.com/books/v1/volumes?q=isbn:\"\n",
    "LIST_ISBN = [\n",
    "    '9780002005883',\n",
    "    '9780002238304',\n",
    "    '9780002261982',\n",
    "    '9780006163831',\n",
    "    '9780006178736',\n",
    "    '9780006280897',\n",
    "    '9780006280934',\n",
    "    '9780006353287',\n",
    "    '9780006380832',\n",
    "    '9780006470229',\n",
    "]\n",
    "\n",
    "\n",
    "def extract_fields_from_response(item):\n",
    "    \"\"\"Extract fields from API's response\"\"\"\n",
    "    volume_info = item.get(\"volumeInfo\", {})\n",
    "    title = volume_info.get(\"title\", None)\n",
    "    subtitle = volume_info.get(\"subtitle\", None)\n",
    "    description = volume_info.get(\"description\", None)\n",
    "    published_date = volume_info.get(\"publishedDate\", None)\n",
    "    return (\n",
    "        title,\n",
    "        subtitle,\n",
    "        description,\n",
    "        published_date,\n",
    "    )\n",
    "\n",
    "\n",
    "def get_book_details_seq(isbn, session):\n",
    "    \"\"\"Get book details using Google Books API (sequentially)\"\"\"\n",
    "    url = GOOGLE_BOOKS_URL + isbn\n",
    "    response = None\n",
    "    try:\n",
    "        response = session.get(url)\n",
    "        response.raise_for_status()\n",
    "        print(f\"Response status ({url}): {response.status_code}\")\n",
    "    except HTTPError as http_err:\n",
    "        print(f\"HTTP error occurred: {http_err}\")\n",
    "    except Exception as err:\n",
    "        print(f\"An error ocurred: {err}\")\n",
    "    response_json = response.json()\n",
    "    items = response_json.get(\"items\", [{}])[0]\n",
    "    return items\n",
    "\n",
    "\n",
    "start = time.time()\n",
    "with requests.Session() as session:\n",
    "    for isbn in LIST_ISBN:\n",
    "        try:\n",
    "            response = get_book_details_seq(isbn, session)\n",
    "            parsed_response = extract_fields_from_response(response)\n",
    "            print(f\"Response: {json.dumps(parsed_response, indent=2)}\")\n",
    "        except Exception as err:\n",
    "            print(f\"Exception occured: {err}\")\n",
    "            pass\n",
    "print(time.time()-start)"
   ]
  },
  {
   "cell_type": "code",
   "execution_count": 8,
   "id": "ceaca8cf",
   "metadata": {},
   "outputs": [
    {
     "name": "stdout",
     "output_type": "stream",
     "text": [
      "Collecting aiohttp\n",
      "  Downloading aiohttp-3.8.1-cp39-cp39-win_amd64.whl (554 kB)\n",
      "     -------------------------------------- 554.9/554.9 KB 1.1 MB/s eta 0:00:00\n",
      "Collecting async-timeout<5.0,>=4.0.0a3\n",
      "  Downloading async_timeout-4.0.2-py3-none-any.whl (5.8 kB)\n",
      "Collecting yarl<2.0,>=1.0\n",
      "  Downloading yarl-1.7.2-cp39-cp39-win_amd64.whl (122 kB)\n",
      "     -------------------------------------- 122.1/122.1 KB 3.6 MB/s eta 0:00:00\n",
      "Collecting aiosignal>=1.1.2\n",
      "  Downloading aiosignal-1.2.0-py3-none-any.whl (8.2 kB)\n",
      "Collecting multidict<7.0,>=4.5\n",
      "  Downloading multidict-6.0.2-cp39-cp39-win_amd64.whl (28 kB)\n",
      "Requirement already satisfied: attrs>=17.3.0 in c:\\users\\berko\\appdata\\local\\packages\\pythonsoftwarefoundation.python.3.9_qbz5n2kfra8p0\\localcache\\local-packages\\python39\\site-packages (from aiohttp) (21.4.0)\n",
      "Collecting frozenlist>=1.1.1\n",
      "  Downloading frozenlist-1.3.0-cp39-cp39-win_amd64.whl (33 kB)\n",
      "Requirement already satisfied: charset-normalizer<3.0,>=2.0 in c:\\users\\berko\\appdata\\local\\packages\\pythonsoftwarefoundation.python.3.9_qbz5n2kfra8p0\\localcache\\local-packages\\python39\\site-packages (from aiohttp) (2.0.12)\n",
      "Requirement already satisfied: idna>=2.0 in c:\\users\\berko\\appdata\\local\\packages\\pythonsoftwarefoundation.python.3.9_qbz5n2kfra8p0\\localcache\\local-packages\\python39\\site-packages (from yarl<2.0,>=1.0->aiohttp) (3.3)\n",
      "Installing collected packages: multidict, frozenlist, async-timeout, yarl, aiosignal, aiohttp\n",
      "Successfully installed aiohttp-3.8.1 aiosignal-1.2.0 async-timeout-4.0.2 frozenlist-1.3.0 multidict-6.0.2 yarl-1.7.2\n"
     ]
    }
   ],
   "source": [
    "!pip install aiohttp"
   ]
  },
  {
   "cell_type": "code",
   "execution_count": 9,
   "id": "0fb42fd0",
   "metadata": {},
   "outputs": [
    {
     "name": "stdout",
     "output_type": "stream",
     "text": [
      "Response status (https://www.googleapis.com/books/v1/volumes?q=isbn:9780002261982): 200\n",
      "Response: [\n",
      "  \"Spider's Web\",\n",
      "  \"A Novel\",\n",
      "  \"A new 'Christie for Christmas' -- a full-length novel adapted from her acclaimed play by Charles Osborne Following BLACK COFFEE and THE UNEXPECTED GUEST comes the final Agatha Christie play novelisation, bringing her superb storytelling to a new legion of fans. Clarissa, the wife of a Foreign Office diplomat, is given to daydreaming. 'Supposing I were to come down one morning and find a dead body in the library, what should I do?' she muses. Clarissa has her chance to find out when she discovers a body in the drawing-room of her house in Kent. Desperate to dispose of the body before her husband comes home with an important foreign politician, Clarissa persuades her three house guests to become accessories and accomplices. It seems that the murdered man was not unknown to certain members of the house party (but which ones?), and the search begins for the murderer and the motive, while at the same time trying to persuade a police inspector that there has been no murder at all... SPIDER'S WEB was written in 1954 specifically for Margaret Lockwood and opened first at the Theatre Royal Nottingham before moving to the Savoy Theatre in London on 14 December 1954. With THE MOUSETRAP and WI\",\n",
      "  \"2000\"\n",
      "]\n",
      "Response status (https://www.googleapis.com/books/v1/volumes?q=isbn:9780006353287): 200\n",
      "Response: [\n",
      "  \"An Autobiography\",\n",
      "  null,\n",
      "  \"Donation.\",\n",
      "  \"1977\"\n",
      "]\n",
      "Response status (https://www.googleapis.com/books/v1/volumes?q=isbn:9780006470229): 200\n",
      "Response: [\n",
      "  \"The Gap Into Madness\",\n",
      "  \"Chaos and Order\",\n",
      "  \"A new-cover reissue of the fourth book in the bestselling five-volume sf series created by the world-famous author of the Thomas Covenant chronicles -- and acclaimed as the 'best work of his career'. Events were not moving as the Amnion had intended. Once again humans had been false in their dealings with the aliens. As the planetoid Thanatos Minor exploded into atoms, the Trumpet hurtled into space only one step ahead of hostile pursuers. On board were Morn Hyland and her force-grown son Davies, cyborg Angus Thermopyle and Captain Nick Succorso -- old enemies thrown together in a desperate bid for survival. For both the Amnion and the UMCP, the immediate capture of the fleeing ship and the secrets it contained was imperative. But for Trumpet's exhausted crew the only hope lay in an illegal lab in the distant binary solar system of Valdor Industrial. It would be a journey of unpredictable danger -- from which not all would return...\",\n",
      "  \"1994\"\n",
      "]\n",
      "Response status (https://www.googleapis.com/books/v1/volumes?q=isbn:9780006380832): 200\n",
      "Response: [\n",
      "  \"Empires of the Monsoon\",\n",
      "  \"A History of the Indian Ocean and Its Invaders\",\n",
      "  \"Until Vasco da Gama discovered the sea-route to the East in 1497-9 almost nothing was known in the West of the exotic cultures and wealth of the Indian Ocean and its peoples. It is this civilization and its destruction at the hands of the West that Richard Hall recreates in this book. Hall's history of the exploration and exploitation by Chinese and Arab travellers, and by the Portuguese, Dutch and British alike is one of brutality, betrayal and colonial ambition.\",\n",
      "  \"1998\"\n",
      "]\n",
      "Response status (https://www.googleapis.com/books/v1/volumes?q=isbn:9780006178736): 200\n",
      "Response: [\n",
      "  \"Rage of Angels\",\n",
      "  null,\n",
      "  \"Brilliant and beautiful, Jennifer Parker rises from the ashes of her disasterous first day in court to become one of America's most successful defence attorneys. Interwoven with two very different men, her life becomes a battleground for good and evil.\",\n",
      "  \"1990\"\n",
      "]\n",
      "Response status (https://www.googleapis.com/books/v1/volumes?q=isbn:9780006280897): 200\n",
      "Response: [\n",
      "  \"The Four Loves\",\n",
      "  null,\n",
      "  \"Lewis' work on the nature of love divides love into four categories; Affection, Friendship, Eros and Charity. The first three come naturally to humanity. Charity, however, the Gift-love of God, is divine, and without this supernatural love, the natural loves become distorted and even dangerous.\",\n",
      "  \"2002\"\n",
      "]\n",
      "Response status (https://www.googleapis.com/books/v1/volumes?q=isbn:9780006163831): 200\n",
      "Response: [\n",
      "  \"The One Tree\",\n",
      "  null,\n",
      "  \"Volume Two of Stephen Donaldson's acclaimed second trilogy featuing the compelling anti-hero Thomas Covenant.\",\n",
      "  \"1982\"\n",
      "]\n",
      "Response status (https://www.googleapis.com/books/v1/volumes?q=isbn:9780006280934): 200\n",
      "Response: [\n",
      "  \"The Problem of Pain\",\n",
      "  null,\n",
      "  \"\\\"In The Problem of Pain, C.S. Lewis, one of the most renowned Christian authors and thinkers, examines a universally applicable question within the human condition: If God is good and all-powerful, why does he allow his creatures to suffer pain? With his signature wealth of compassion and insight, C.S. Lewis offers answers to these crucial questions and shares his hope and wisdom to help heal a world hungering for a true understanding of human nature.\\\"--Amazon.\",\n",
      "  \"2002\"\n",
      "]\n",
      "Response status (https://www.googleapis.com/books/v1/volumes?q=isbn:9780002005883): 200\n",
      "Response: [\n",
      "  \"Gilead\",\n",
      "  null,\n",
      "  \"A NOVEL THAT READERS and critics have been eagerly anticipating for over a decade, Gilead is an astonishingly imagined story of remarkable lives. John Ames is a preacher, the son of a preacher and the grandson (both maternal and paternal) of preachers. It\\u2019s 1956 in Gilead, Iowa, towards the end of the Reverend Ames\\u2019s life, and he is absorbed in recording his family\\u2019s story, a legacy for the young son he will never see grow up. Haunted by his grandfather\\u2019s presence, John tells of the rift between his grandfather and his father: the elder, an angry visionary who fought for the abolitionist cause, and his son, an ardent pacifist. He is troubled, too, by his prodigal namesake, Jack (John Ames) Boughton, his best friend\\u2019s lost son who returns to Gilead searching for forgiveness and redemption. Told in John Ames\\u2019s joyous, rambling voice that finds beauty, humour and truth in the smallest of life\\u2019s details, Gilead is a song of celebration and acceptance of the best and the worst the world has to offer. At its heart is a tale of the sacred bonds between fathers and sons, pitch-perfect in style and story, set to dazzle critics and readers alike.\",\n",
      "  \"2004-11-08\"\n",
      "]\n",
      "Response status (https://www.googleapis.com/books/v1/volumes?q=isbn:9780002238304): 200\n",
      "Response: [\n",
      "  \"Chaos and Order\",\n",
      "  null,\n",
      "  \"As the planetoid Thanatos Minor explodes into atoms, a specially fitted cruiser escapes the mass destruction and hurtles into space only a step ahead of hostile pursuit. On board Trumpet is a handful of bedraggled fugitives from an outlaw world, old enemies suddenly and violently thrown together in a desperate bid for survival. Among this unlikely crew of allies are Morn Hyland, once a UMCP cop, now a prisoner to the electrodes implanted in her brain; her son, Davies, \\\"force-grown\\\" to adulthood by the alien Amnion and struggling to understand his true identity; the amoral space buccaneer Nick Succorso, whose most daring act of piracy could be his last; and Angus Thermopyle, unstoppable cyborg struggling to wrest control of his own mind from his UMCP programmers. Locked in a lethal battle against one another for control of Trumpet, they also find themselves the target of Punisher, a police ship whose human captain, Min Donner, is torn between her duty and her sympathy for the outlaw crew she's been ordered to capture. Yet as Min races to reach Trumpet in time, Warden Dios, the director of the UMC Police, receives a darker directive from the mysterious, semi-immortal Dragon, ruler of the UMC: Kill everyone aboard Trumpet except for the one person whose blood carries the mutagenic key to ultimate Amnion triumph - the ability to appear perfectly human. In a final titanic showdown in space, amid uncharted comets, planets, and asteroid swarms, these forces will converge in a contest of skill and survival on which our future - and the future of the galaxy - depends. In Chaos and Order Stephen R. Donaldson has created his most powerful and labyrinthine tale yet, peeling away layer upon layer ofintrigue and double cross to lay bare the chilling plan for the conquest of humanity.\",\n",
      "  \"1995-06-01\"\n",
      "]\n",
      "0.8529531955718994\n"
     ]
    }
   ],
   "source": [
    "import aiohttp\n",
    "import asyncio\n",
    "import os\n",
    "\n",
    "from aiohttp import ClientSession\n",
    "\n",
    "\n",
    "GOOGLE_BOOKS_URL = \"https://www.googleapis.com/books/v1/volumes?q=isbn:\"\n",
    "LIST_ISBN = [\n",
    "    '9780002005883',\n",
    "    '9780002238304',\n",
    "    '9780002261982',\n",
    "    '9780006163831',\n",
    "    '9780006178736',\n",
    "    '9780006280897',\n",
    "    '9780006280934',\n",
    "    '9780006353287',\n",
    "    '9780006380832',\n",
    "    '9780006470229',\n",
    "]\n",
    "\n",
    "\n",
    "def extract_fields_from_response(response):\n",
    "    \"\"\"Extract fields from API's response\"\"\"\n",
    "    item = response.get(\"items\", [{}])[0]\n",
    "    volume_info = item.get(\"volumeInfo\", {})\n",
    "    title = volume_info.get(\"title\", None)\n",
    "    subtitle = volume_info.get(\"subtitle\", None)\n",
    "    description = volume_info.get(\"description\", None)\n",
    "    published_date = volume_info.get(\"publishedDate\", None)\n",
    "    return (\n",
    "        title,\n",
    "        subtitle,\n",
    "        description,\n",
    "        published_date,\n",
    "    )\n",
    "\n",
    "\n",
    "async def get_book_details_async(isbn, session):\n",
    "    \"\"\"Get book details using Google Books API (asynchronously)\"\"\"\n",
    "    url = GOOGLE_BOOKS_URL + isbn\n",
    "    try:\n",
    "        response = await session.request(method='GET', url=url)\n",
    "        response.raise_for_status()\n",
    "        print(f\"Response status ({url}): {response.status}\")\n",
    "    except HTTPError as http_err:\n",
    "        print(f\"HTTP error occurred: {http_err}\")\n",
    "    except Exception as err:\n",
    "        print(f\"An error ocurred: {err}\")\n",
    "    response_json = await response.json()\n",
    "    return response_json\n",
    "\n",
    "\n",
    "async def run_program(isbn, session):\n",
    "    \"\"\"Wrapper for running program in an asynchronous manner\"\"\"\n",
    "    try:\n",
    "        response = await get_book_details_async(isbn, session)\n",
    "        parsed_response = extract_fields_from_response(response)\n",
    "        print(f\"Response: {json.dumps(parsed_response, indent=2)}\")\n",
    "    except Exception as err:\n",
    "        print(f\"Exception occured: {err}\")\n",
    "        pass\n",
    "\n",
    "start = time.time()\n",
    "async with ClientSession() as session:\n",
    "    await asyncio.gather(*[run_program(isbn, session) for isbn in LIST_ISBN])\n",
    "print(time.time()-start)"
   ]
  },
  {
   "cell_type": "code",
   "execution_count": 3,
   "id": "a64ab78a",
   "metadata": {},
   "outputs": [
    {
     "name": "stdout",
     "output_type": "stream",
     "text": [
      "0.9517850875854492\n"
     ]
    }
   ],
   "source": [
    "GOOGLE_BOOKS_URL = \"https://www.googleapis.com/books/v1/volumes?q=isbn:\"\n",
    "LIST_ISBN = [\n",
    "    '9780002005883',\n",
    "    '9780002238304',\n",
    "    '9780002261982',\n",
    "    '9780006163831',\n",
    "    '9780006178736',\n",
    "    '9780006280897',\n",
    "    '9780006280934',\n",
    "    '9780006353287',\n",
    "    '9780006380832',\n",
    "    '9780006470229',\n",
    "]\n",
    "\n",
    "def request_single_book(url):\n",
    "    resp = requests.get(url)\n",
    "\n",
    "import threading\n",
    "import requests\n",
    "import time\n",
    "start = time.time()\n",
    "threads = []\n",
    "for isbn in LIST_ISBN:\n",
    "    t = threading.Thread(target=request_single_book, args=(GOOGLE_BOOKS_URL+isbn,))\n",
    "    t.start()\n",
    "    threads.append(t)\n",
    "for t in threads:\n",
    "    t.join()\n",
    "print(time.time()-start)"
   ]
  },
  {
   "cell_type": "code",
   "execution_count": null,
   "id": "820ab7e5",
   "metadata": {},
   "outputs": [],
   "source": [
    "from multiprocessing import Pool\n",
    "\n",
    "pool = Pool(processes=5)\n",
    "\n",
    "urls = []\n",
    "for isbn in LIST_ISBN:\n",
    "    urls.append(GOOGLE_BOOKS_URL+isbn)\n",
    "\n",
    "start = time.time()\n",
    "results = pool.map(request_single_book, urls)\n",
    "print(time.time()-start)"
   ]
  },
  {
   "cell_type": "code",
   "execution_count": null,
   "id": "a57f08e3",
   "metadata": {},
   "outputs": [],
   "source": []
  }
 ],
 "metadata": {
  "kernelspec": {
   "display_name": "Python 3 (ipykernel)",
   "language": "python",
   "name": "python3"
  },
  "language_info": {
   "codemirror_mode": {
    "name": "ipython",
    "version": 3
   },
   "file_extension": ".py",
   "mimetype": "text/x-python",
   "name": "python",
   "nbconvert_exporter": "python",
   "pygments_lexer": "ipython3",
   "version": "3.9.12"
  }
 },
 "nbformat": 4,
 "nbformat_minor": 5
}
